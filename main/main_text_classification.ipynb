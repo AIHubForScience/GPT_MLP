{
 "cells": [
  {
   "cell_type": "code",
   "execution_count": 155,
   "metadata": {},
   "outputs": [],
   "source": [
    "import pandas as pd\n",
    "\n",
    "train_data = pd.read_csv('train.csv', encoding= 'ANSI')\n",
    "train_data.columns =['prompt','completion']\n",
    "train_data.sample(frac=1, random_state=42)\n",
    "nb= round(100*len(train_data[train_data['completion']!='battery'])/len(train_data))\n",
    "bb= round(100*len(train_data[train_data['completion']=='battery'])/len(train_data))\n",
    "nb_data = train_data[train_data['completion']!='battery'].sample(n=nb, replace=False)\n",
    "bb_data = train_data[train_data['completion']=='battery'].sample(n=bb, replace=False)\n",
    "sample = pd.concat([nb_data, bb_data])\n",
    "sample\n",
    "sample.to_json(\"train.jsonl\", orient='records', lines=True)"
   ]
  },
  {
   "cell_type": "code",
   "execution_count": 156,
   "metadata": {},
   "outputs": [
    {
     "name": "stdout",
     "output_type": "stream",
     "text": [
      "Analyzing...\n",
      "\n",
      "- Your file contains 100 prompt-completion pairs\n",
      "- Based on your data it seems like you're trying to fine-tune a model for classification\n",
      "- For classification, we recommend you try one of the faster and cheaper models, such as `ada`\n",
      "- For classification, you can estimate the expected model performance by keeping a held out dataset, which is not used for training\n",
      "- Your data does not contain a common separator at the end of your prompts. Having a separator string appended to the end of the prompt makes it clearer to the fine-tuned model where the completion should begin. See https://beta.openai.com/docs/guides/fine-tuning/preparing-your-dataset for more detail and examples. If you intend to do open-ended generation, then you should leave the prompts empty\n",
      "- The completion should start with a whitespace character (` `). This tends to produce better results due to the tokenization we use. See https://beta.openai.com/docs/guides/fine-tuning/preparing-your-dataset for more details\n",
      "\n",
      "Based on the analysis we will perform the following actions:\n",
      "- [Recommended] Add a suffix separator `\\n\\n###\\n\\n` to all prompts [Y/n]: Y\n",
      "- [Recommended] Add a whitespace character to the beginning of the completion [Y/n]: Y\n",
      "- [Recommended] Would you like to split into training and validation set? [Y/n]: Y\n",
      "\n",
      "\n",
      "Your data will be written to a new JSONL file. Proceed [Y/n]: Y\n",
      "\n",
      "Wrote modified files to `battery_doc/train_100_prepared_train.jsonl` and `battery_doc/train_100_prepared_valid.jsonl`\n",
      "Feel free to take a look!\n",
      "\n",
      "Now use that file when fine-tuning:\n",
      "> openai api fine_tunes.create -t \"battery_doc/train_100_prepared_train.jsonl\" -v \"battery_doc/train_100_prepared_valid.jsonl\" --compute_classification_metrics --classification_positive_class \" battery\"\n",
      "\n",
      "After you’ve fine-tuned a model, remember that your prompt has to end with the indicator string `\\n\\n###\\n\\n` for the model to start generating completions, rather than continuing with the prompt. Make sure to include `stop=[\"battery\"]` so that the generated texts ends at the expected place.\n",
      "Once your model starts training, it'll approximately take 4.73 minutes to train a `curie` model, and less for `ada` and `babbage`. Queue will approximately take half an hour per job ahead of you.\n"
     ]
    }
   ],
   "source": [
    "!openai tools fine_tunes.prepare_data -f train.jsonl -q"
   ]
  },
  {
   "cell_type": "code",
   "execution_count": null,
   "metadata": {},
   "outputs": [],
   "source": [
    "from sklearn.model_selection import train_test_split\n",
    "train_df, test_df = train_test_split(data, test_size=0.04, shuffle = True, random_state=42, stratify = data['completion'])\n",
    "test_df.to_json(\"train.jsonl\", orient='records', lines=True)\n",
    "len(train_df), len(test_df)"
   ]
  },
  {
   "cell_type": "code",
   "execution_count": null,
   "metadata": {},
   "outputs": [],
   "source": [
    "!openai api fine_tunes.follow -i \"NAME OF YOUR FINE_TUNED MODEL\""
   ]
  },
  {
   "cell_type": "code",
   "execution_count": 2,
   "metadata": {},
   "outputs": [
    {
     "data": {
      "text/html": [
       "<div>\n",
       "<style scoped>\n",
       "    .dataframe tbody tr th:only-of-type {\n",
       "        vertical-align: middle;\n",
       "    }\n",
       "\n",
       "    .dataframe tbody tr th {\n",
       "        vertical-align: top;\n",
       "    }\n",
       "\n",
       "    .dataframe thead th {\n",
       "        text-align: right;\n",
       "    }\n",
       "</style>\n",
       "<table border=\"1\" class=\"dataframe\">\n",
       "  <thead>\n",
       "    <tr style=\"text-align: right;\">\n",
       "      <th></th>\n",
       "      <th>prompt</th>\n",
       "      <th>completion</th>\n",
       "    </tr>\n",
       "  </thead>\n",
       "  <tbody>\n",
       "    <tr>\n",
       "      <th>0</th>\n",
       "      <td>The synthesis of lambda-manganese oxide (λ-Mn...</td>\n",
       "      <td>battery</td>\n",
       "    </tr>\n",
       "    <tr>\n",
       "      <th>1</th>\n",
       "      <td>Introduction Contact dermatitis to cosmetics i...</td>\n",
       "      <td>non-battery</td>\n",
       "    </tr>\n",
       "    <tr>\n",
       "      <th>2</th>\n",
       "      <td>The passivation of pure Zn (99.995wt%) and Zn–...</td>\n",
       "      <td>battery</td>\n",
       "    </tr>\n",
       "    <tr>\n",
       "      <th>3</th>\n",
       "      <td>The corrosion of titanium in H2SO4 electrolyte...</td>\n",
       "      <td>battery</td>\n",
       "    </tr>\n",
       "    <tr>\n",
       "      <th>4</th>\n",
       "      <td>The presence of vascular neurocognitive impair...</td>\n",
       "      <td>non-battery</td>\n",
       "    </tr>\n",
       "    <tr>\n",
       "      <th>...</th>\n",
       "      <td>...</td>\n",
       "      <td>...</td>\n",
       "    </tr>\n",
       "    <tr>\n",
       "      <th>4662</th>\n",
       "      <td>An air-breathing polymer electrolyte membrane ...</td>\n",
       "      <td>battery</td>\n",
       "    </tr>\n",
       "    <tr>\n",
       "      <th>4663</th>\n",
       "      <td>A fuel cell stack needs to be stable and high-...</td>\n",
       "      <td>battery</td>\n",
       "    </tr>\n",
       "    <tr>\n",
       "      <th>4664</th>\n",
       "      <td>While the implications of information and comm...</td>\n",
       "      <td>non-battery</td>\n",
       "    </tr>\n",
       "    <tr>\n",
       "      <th>4665</th>\n",
       "      <td>The cycling performance of LiPF4(C2O4) electro...</td>\n",
       "      <td>battery</td>\n",
       "    </tr>\n",
       "    <tr>\n",
       "      <th>4666</th>\n",
       "      <td>In this work, a Sn nanoparticle (NP)/carbon na...</td>\n",
       "      <td>battery</td>\n",
       "    </tr>\n",
       "  </tbody>\n",
       "</table>\n",
       "<p>4667 rows × 2 columns</p>\n",
       "</div>"
      ],
      "text/plain": [
       "                                                 prompt   completion\n",
       "0      The synthesis of lambda-manganese oxide (λ-Mn...      battery\n",
       "1     Introduction Contact dermatitis to cosmetics i...  non-battery\n",
       "2     The passivation of pure Zn (99.995wt%) and Zn–...      battery\n",
       "3     The corrosion of titanium in H2SO4 electrolyte...      battery\n",
       "4     The presence of vascular neurocognitive impair...  non-battery\n",
       "...                                                 ...          ...\n",
       "4662  An air-breathing polymer electrolyte membrane ...      battery\n",
       "4663  A fuel cell stack needs to be stable and high-...      battery\n",
       "4664  While the implications of information and comm...  non-battery\n",
       "4665  The cycling performance of LiPF4(C2O4) electro...      battery\n",
       "4666  In this work, a Sn nanoparticle (NP)/carbon na...      battery\n",
       "\n",
       "[4667 rows x 2 columns]"
      ]
     },
     "execution_count": 2,
     "metadata": {},
     "output_type": "execute_result"
    }
   ],
   "source": [
    "import pandas as pd\n",
    "\n",
    "data = pd.read_csv('test.csv')\n",
    "data.columns =['prompt','completion']\n",
    "data"
   ]
  },
  {
   "cell_type": "code",
   "execution_count": 7,
   "metadata": {},
   "outputs": [
    {
     "data": {
      "text/html": [
       "<div>\n",
       "<style scoped>\n",
       "    .dataframe tbody tr th:only-of-type {\n",
       "        vertical-align: middle;\n",
       "    }\n",
       "\n",
       "    .dataframe tbody tr th {\n",
       "        vertical-align: top;\n",
       "    }\n",
       "\n",
       "    .dataframe thead th {\n",
       "        text-align: right;\n",
       "    }\n",
       "</style>\n",
       "<table border=\"1\" class=\"dataframe\">\n",
       "  <thead>\n",
       "    <tr style=\"text-align: right;\">\n",
       "      <th></th>\n",
       "      <th>prompt</th>\n",
       "      <th>completion</th>\n",
       "    </tr>\n",
       "  </thead>\n",
       "  <tbody>\n",
       "    <tr>\n",
       "      <th>0</th>\n",
       "      <td>The synthesis of lambda-manganese oxide (λ-Mn...</td>\n",
       "      <td>battery</td>\n",
       "    </tr>\n",
       "    <tr>\n",
       "      <th>1</th>\n",
       "      <td>Introduction Contact dermatitis to cosmetics i...</td>\n",
       "      <td>non-battery</td>\n",
       "    </tr>\n",
       "    <tr>\n",
       "      <th>2</th>\n",
       "      <td>The passivation of pure Zn (99.995wt%) and Zn–...</td>\n",
       "      <td>battery</td>\n",
       "    </tr>\n",
       "    <tr>\n",
       "      <th>3</th>\n",
       "      <td>The corrosion of titanium in H2SO4 electrolyte...</td>\n",
       "      <td>battery</td>\n",
       "    </tr>\n",
       "    <tr>\n",
       "      <th>4</th>\n",
       "      <td>The presence of vascular neurocognitive impair...</td>\n",
       "      <td>non-battery</td>\n",
       "    </tr>\n",
       "    <tr>\n",
       "      <th>...</th>\n",
       "      <td>...</td>\n",
       "      <td>...</td>\n",
       "    </tr>\n",
       "    <tr>\n",
       "      <th>4662</th>\n",
       "      <td>An air-breathing polymer electrolyte membrane ...</td>\n",
       "      <td>battery</td>\n",
       "    </tr>\n",
       "    <tr>\n",
       "      <th>4663</th>\n",
       "      <td>A fuel cell stack needs to be stable and high-...</td>\n",
       "      <td>battery</td>\n",
       "    </tr>\n",
       "    <tr>\n",
       "      <th>4664</th>\n",
       "      <td>While the implications of information and comm...</td>\n",
       "      <td>non-battery</td>\n",
       "    </tr>\n",
       "    <tr>\n",
       "      <th>4665</th>\n",
       "      <td>The cycling performance of LiPF4(C2O4) electro...</td>\n",
       "      <td>battery</td>\n",
       "    </tr>\n",
       "    <tr>\n",
       "      <th>4666</th>\n",
       "      <td>In this work, a Sn nanoparticle (NP)/carbon na...</td>\n",
       "      <td>battery</td>\n",
       "    </tr>\n",
       "  </tbody>\n",
       "</table>\n",
       "<p>4667 rows × 2 columns</p>\n",
       "</div>"
      ],
      "text/plain": [
       "                                                 prompt   completion\n",
       "0      The synthesis of lambda-manganese oxide (λ-Mn...      battery\n",
       "1     Introduction Contact dermatitis to cosmetics i...  non-battery\n",
       "2     The passivation of pure Zn (99.995wt%) and Zn–...      battery\n",
       "3     The corrosion of titanium in H2SO4 electrolyte...      battery\n",
       "4     The presence of vascular neurocognitive impair...  non-battery\n",
       "...                                                 ...          ...\n",
       "4662  An air-breathing polymer electrolyte membrane ...      battery\n",
       "4663  A fuel cell stack needs to be stable and high-...      battery\n",
       "4664  While the implications of information and comm...  non-battery\n",
       "4665  The cycling performance of LiPF4(C2O4) electro...      battery\n",
       "4666  In this work, a Sn nanoparticle (NP)/carbon na...      battery\n",
       "\n",
       "[4667 rows x 2 columns]"
      ]
     },
     "execution_count": 7,
     "metadata": {},
     "output_type": "execute_result"
    }
   ],
   "source": [
    "test=pd.read_csv('test.csv')\n",
    "test.columns =['prompt','completion']\n",
    "test"
   ]
  },
  {
   "cell_type": "code",
   "execution_count": 8,
   "metadata": {},
   "outputs": [],
   "source": [
    "import tiktoken\n",
    "from openai.embeddings_utils import get_embedding\n",
    "import pickle\n",
    "embedding_model = \"text-embedding-ada-002\"\n",
    "embedding_encoding = \"cl100k_base\"  # this the encoding for text-embedding-ada-002\n",
    "max_tokens = 8000  # the maximum for text-embedding-ada-002 is 8191\n",
    "top_n = 1000\n",
    "\n",
    "\n",
    "encoding = tiktoken.get_encoding(embedding_encoding)\n",
    "test[\"n_tokens\"] = test.prompt.apply(lambda x: len(encoding.encode(x)))\n"
   ]
  },
  {
   "cell_type": "code",
   "execution_count": 22,
   "metadata": {},
   "outputs": [],
   "source": [
    "import openai\n",
    "your_key = 'YOUR KEY'\n",
    "openai.api_key = your_key"
   ]
  },
  {
   "cell_type": "code",
   "execution_count": null,
   "metadata": {},
   "outputs": [],
   "source": [
    "!openai api fine_tunes.list"
   ]
  },
  {
   "cell_type": "code",
   "execution_count": 11,
   "metadata": {},
   "outputs": [],
   "source": [
    "test = test[test.n_tokens <= max_tokens]\n",
    "test[\"embedding\"] = test.prompt.apply(lambda x: get_embedding(x, engine=embedding_model))\n"
   ]
  },
  {
   "cell_type": "code",
   "execution_count": 12,
   "metadata": {},
   "outputs": [],
   "source": [
    "\n",
    "with open('test_with_ada_embedding.pkl', 'wb') as f:\n",
    "    pickle.dump(test, f)"
   ]
  },
  {
   "cell_type": "code",
   "execution_count": 16,
   "metadata": {},
   "outputs": [
    {
     "name": "stdout",
     "output_type": "stream",
     "text": [
      "[[2948    0]\n",
      " [1718    1]]\n",
      "              precision    recall  f1-score   support\n",
      "\n",
      "     battery      0.632     1.000     0.774      2948\n",
      " non-battery      1.000     0.001     0.001      1719\n",
      "\n",
      "    accuracy                          0.632      4667\n",
      "   macro avg      0.816     0.500     0.388      4667\n",
      "weighted avg      0.767     0.632     0.490      4667\n",
      "\n"
     ]
    },
    {
     "data": {
      "text/plain": [
       "(0      -0.038372\n",
       " 1      -0.056095\n",
       " 2      -0.037259\n",
       " 3      -0.043983\n",
       " 4      -0.031283\n",
       "           ...   \n",
       " 4662   -0.031761\n",
       " 4663   -0.059414\n",
       " 4664   -0.058902\n",
       " 4665   -0.045896\n",
       " 4666   -0.021231\n",
       " Name: embedding, Length: 4667, dtype: float64,\n",
       " 0       battery\n",
       " 1       battery\n",
       " 2       battery\n",
       " 3       battery\n",
       " 4       battery\n",
       "          ...   \n",
       " 4662    battery\n",
       " 4663    battery\n",
       " 4664    battery\n",
       " 4665    battery\n",
       " 4666    battery\n",
       " Name: embedding, Length: 4667, dtype: object)"
      ]
     },
     "execution_count": 16,
     "metadata": {},
     "output_type": "execute_result"
    }
   ],
   "source": [
    "import pandas as pd\n",
    "import numpy as np\n",
    "\n",
    "from sklearn.metrics import classification_report, confusion_matrix\n",
    "\n",
    "EMBEDDING_MODEL = \"text-embedding-ada-002\"\n",
    "\n",
    "\n",
    "test[\"embedding\"] = test.embedding.apply(np.array)\n",
    "from openai.embeddings_utils import cosine_similarity, get_embedding\n",
    "from sklearn.metrics import PrecisionRecallDisplay\n",
    "\n",
    "def evaluate_embeddings_approach(\n",
    "    labels = ['battery', 'non-battery'], \n",
    "    model = EMBEDDING_MODEL,\n",
    "):\n",
    "    label_embeddings = [get_embedding(label, engine=model) for label in labels]\n",
    "\n",
    "    def label_score(review_embedding, label_embeddings):\n",
    "        return cosine_similarity(review_embedding, label_embeddings[1]) - cosine_similarity(review_embedding, label_embeddings[0])\n",
    "\n",
    "    probas = test[\"embedding\"].apply(lambda x: label_score(x, label_embeddings))\n",
    "    preds = probas.apply(lambda x: 'non-battery' if x>0 else 'battery')\n",
    "    print(confusion_matrix(test.completion, preds))\n",
    "    report = classification_report(test.completion, preds, digits=3)\n",
    "\n",
    "    print(report)\n",
    "\n",
    "    return probas, preds\n",
    "    \n",
    "    \n",
    "\n",
    "evaluate_embeddings_approach(labels=['battery', 'non-battery'], model=EMBEDDING_MODEL)"
   ]
  },
  {
   "cell_type": "code",
   "execution_count": 5,
   "metadata": {},
   "outputs": [],
   "source": [
    "import os\n",
    "os.environ[\"OPENAI_API_KEY\"] = \"YOUR KEY\"\n"
   ]
  },
  {
   "cell_type": "code",
   "execution_count": null,
   "metadata": {},
   "outputs": [],
   "source": [
    "!openai api fine_tunes.create -t \"train.jsonl\" -v \"test.jsonl\" --compute_classification_metrics --classification_positive_class \"NAME OF POSITIVE CLASS \""
   ]
  },
  {
   "cell_type": "code",
   "execution_count": 142,
   "metadata": {},
   "outputs": [
    {
     "name": "stdout",
     "output_type": "stream",
     "text": [
      "[[2886   62]\n",
      " [ 531 1188]]\n",
      "              precision    recall  f1-score   support\n",
      "\n",
      "     battery      0.845     0.979     0.907      2948\n",
      " non-battery      0.950     0.691     0.800      1719\n",
      "\n",
      "    accuracy                          0.873      4667\n",
      "   macro avg      0.898     0.835     0.854      4667\n",
      "weighted avg      0.884     0.873     0.868      4667\n",
      "\n"
     ]
    }
   ],
   "source": [
    "evaluate_embeddings_approach(labels=['battery materials', 'diverse domains'])"
   ]
  },
  {
   "cell_type": "code",
   "execution_count": 21,
   "metadata": {},
   "outputs": [
    {
     "name": "stdout",
     "output_type": "stream",
     "text": [
      "[[2871   77]\n",
      " [ 264 1455]]\n",
      "              precision    recall  f1-score   support\n",
      "\n",
      "     battery      0.916     0.974     0.944      2948\n",
      " non-battery      0.950     0.846     0.895      1719\n",
      "\n",
      "    accuracy                          0.927      4667\n",
      "   macro avg      0.933     0.910     0.920      4667\n",
      "weighted avg      0.928     0.927     0.926      4667\n",
      "\n"
     ]
    }
   ],
   "source": [
    "prob, pred =evaluate_embeddings_approach(labels=['papers related to battery materials', 'papers on application in medical and psychological research'])\n",
    "\n",
    "out = pd.DataFrame({'prob': prob, 'pred': pred})"
   ]
  },
  {
   "cell_type": "code",
   "execution_count": 14,
   "metadata": {},
   "outputs": [
    {
     "name": "stdout",
     "output_type": "stream",
     "text": [
      "[[2916   32]\n",
      " [ 297 1422]]\n",
      "              precision    recall  f1-score   support\n",
      "\n",
      "     battery      0.908     0.989     0.947      2948\n",
      " non-battery      0.978     0.827     0.896      1719\n",
      "\n",
      "    accuracy                          0.930      4667\n",
      "   macro avg      0.943     0.908     0.921      4667\n",
      "weighted avg      0.934     0.930     0.928      4667\n",
      "\n"
     ]
    }
   ],
   "source": [
    "evaluate_embeddings_approach(labels=['papers related to battery energy materials', 'medical and psychological research'])"
   ]
  },
  {
   "cell_type": "code",
   "execution_count": 143,
   "metadata": {},
   "outputs": [
    {
     "name": "stdout",
     "output_type": "stream",
     "text": [
      "[[2899   49]\n",
      " [ 373 1346]]\n",
      "              precision    recall  f1-score   support\n",
      "\n",
      "     battery      0.886     0.983     0.932      2948\n",
      " non-battery      0.965     0.783     0.864      1719\n",
      "\n",
      "    accuracy                          0.910      4667\n",
      "   macro avg      0.925     0.883     0.898      4667\n",
      "weighted avg      0.915     0.910     0.907      4667\n",
      "\n"
     ]
    }
   ],
   "source": [
    "evaluate_embeddings_approach(labels=['battery materials', 'medical and psychological research'])"
   ]
  }
 ],
 "metadata": {
  "kernelspec": {
   "display_name": "base",
   "language": "python",
   "name": "python3"
  },
  "language_info": {
   "codemirror_mode": {
    "name": "ipython",
    "version": 3
   },
   "file_extension": ".py",
   "mimetype": "text/x-python",
   "name": "python",
   "nbconvert_exporter": "python",
   "pygments_lexer": "ipython3",
   "version": "3.9.12"
  },
  "orig_nbformat": 4
 },
 "nbformat": 4,
 "nbformat_minor": 2
}
